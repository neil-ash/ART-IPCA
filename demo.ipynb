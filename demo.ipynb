{
 "cells": [
  {
   "cell_type": "code",
   "execution_count": 1,
   "id": "035d6c7e",
   "metadata": {
    "scrolled": true
   },
   "outputs": [],
   "source": [
    "import numpy as np\n",
    "import pandas as pd\n",
    "from sklearn.decomposition import IncrementalPCA\n",
    "from sklearn.metrics.pairwise import cosine_similarity\n",
    "from sklearn.metrics import accuracy_score\n",
    "from model import ART_IPCA\n",
    "from all_metrics import make_tasks_train_test, ART_IPCA_train_test"
   ]
  },
  {
   "cell_type": "code",
   "execution_count": 2,
   "id": "0007bae6",
   "metadata": {},
   "outputs": [],
   "source": [
    "d_train = pd.read_csv('../mnist_train.csv').values\n",
    "d_test = pd.read_csv('../mnist_test.csv').values\n",
    "\n",
    "# Scale features in [0, 1]\n",
    "X_train = d_train[:, 1:] / 255.0\n",
    "X_test = d_test[:, 1:] / 255.0\n",
    "\n",
    "y_train = d_train[:, 0]\n",
    "y_test = d_test[:, 0]\n",
    "\n",
    "del d_train, d_test"
   ]
  },
  {
   "cell_type": "markdown",
   "id": "6d3de0d4",
   "metadata": {},
   "source": [
    "# ART_IPCA Model"
   ]
  },
  {
   "cell_type": "code",
   "execution_count": 3,
   "id": "4e373e3b",
   "metadata": {},
   "outputs": [
    {
     "data": {
      "text/plain": [
       "0.9369"
      ]
     },
     "execution_count": 3,
     "metadata": {},
     "output_type": "execute_result"
    }
   ],
   "source": [
    "model = ART_IPCA(n_components=200, sim_metric=cosine_similarity, rho=0.5)\n",
    "TX_train, Ty_train = model.make_tasks(X_train, y_train, n_train_spc=2000, n_tasks=5)\n",
    "model.fit(TX_train, Ty_train)\n",
    "y_pred = model.predict(X_test)\n",
    "\n",
    "accuracy_score(y_test, y_pred)"
   ]
  },
  {
   "cell_type": "markdown",
   "id": "58c9552e",
   "metadata": {},
   "source": [
    "# All Metrics"
   ]
  },
  {
   "cell_type": "code",
   "execution_count": 4,
   "id": "38e17a93",
   "metadata": {},
   "outputs": [
    {
     "name": "stdout",
     "output_type": "stream",
     "text": [
      "Overall accuracy \n",
      "Multiheaded setting:  0.992\n",
      "Singleheaded setting: 0.915\n"
     ]
    }
   ],
   "source": [
    "TX_train, Ty_train, TX_test, Ty_test = make_tasks_train_test(X_train, \n",
    "                                                             y_train, \n",
    "                                                             X_test, \n",
    "                                                             y_test, \n",
    "                                                             n_train_spc=2000, \n",
    "                                                             n_test_spc=500, \n",
    "                                                             n_tasks=5)\n",
    "\n",
    "mh_acc_mat, sh_acc_mat = ART_IPCA_train_test(TX_train, \n",
    "                                             Ty_train, \n",
    "                                             TX_test, \n",
    "                                             Ty_test,\n",
    "                                             n_components=200,\n",
    "                                             sim_metric=cosine_similarity, \n",
    "                                             rho=0.5)"
   ]
  },
  {
   "cell_type": "code",
   "execution_count": 5,
   "id": "f87ec21d",
   "metadata": {},
   "outputs": [
    {
     "data": {
      "text/plain": [
       "array([[1.   ,   nan,   nan,   nan,   nan],\n",
       "       [1.   , 0.986,   nan,   nan,   nan],\n",
       "       [0.999, 0.987, 0.993,   nan,   nan],\n",
       "       [0.999, 0.988, 0.993, 0.997,   nan],\n",
       "       [0.999, 0.988, 0.994, 0.997, 0.982]], dtype=float32)"
      ]
     },
     "execution_count": 5,
     "metadata": {},
     "output_type": "execute_result"
    }
   ],
   "source": [
    "mh_acc_mat"
   ]
  },
  {
   "cell_type": "code",
   "execution_count": 6,
   "id": "a3213cfc",
   "metadata": {},
   "outputs": [
    {
     "data": {
      "text/plain": [
       "array([[1.   ,   nan,   nan,   nan,   nan],\n",
       "       [0.986, 0.974,   nan,   nan,   nan],\n",
       "       [0.98 , 0.957, 0.968,   nan,   nan],\n",
       "       [0.966, 0.944, 0.942, 0.952,   nan],\n",
       "       [0.962, 0.924, 0.847, 0.929, 0.912]], dtype=float32)"
      ]
     },
     "execution_count": 6,
     "metadata": {},
     "output_type": "execute_result"
    }
   ],
   "source": [
    "sh_acc_mat"
   ]
  }
 ],
 "metadata": {
  "kernelspec": {
   "display_name": "Python 3 (ipykernel)",
   "language": "python",
   "name": "python3"
  },
  "language_info": {
   "codemirror_mode": {
    "name": "ipython",
    "version": 3
   },
   "file_extension": ".py",
   "mimetype": "text/x-python",
   "name": "python",
   "nbconvert_exporter": "python",
   "pygments_lexer": "ipython3",
   "version": "3.7.13"
  }
 },
 "nbformat": 4,
 "nbformat_minor": 5
}
