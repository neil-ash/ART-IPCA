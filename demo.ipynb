{
 "cells": [
  {
   "cell_type": "markdown",
   "id": "e89cb33c",
   "metadata": {},
   "source": [
    "# Demonstration of Algorithm on MNIST\n",
    "---\n",
    "## Import pacakges and load data\n",
    "\n",
    "You will need to download the MNIST dataset locally to run this notebook"
   ]
  },
  {
   "cell_type": "code",
   "execution_count": 1,
   "id": "035d6c7e",
   "metadata": {
    "scrolled": true
   },
   "outputs": [],
   "source": [
    "import numpy as np\n",
    "import pandas as pd\n",
    "from sklearn.utils import shuffle\n",
    "from sklearn.decomposition import IncrementalPCA\n",
    "from sklearn.metrics.pairwise import cosine_similarity\n",
    "from sklearn.metrics import accuracy_score\n",
    "from model import make_tasks, ART_IPCA\n",
    "from all_metrics import ART_IPCA_all_metrics"
   ]
  },
  {
   "cell_type": "code",
   "execution_count": 2,
   "id": "cb39018e",
   "metadata": {},
   "outputs": [],
   "source": [
    "d_train = pd.read_csv('mnist_train.csv').values\n",
    "d_test = pd.read_csv('mnist_test.csv').values\n",
    "\n",
    "# Scale features in [0, 1]\n",
    "X_train = d_train[:, 1:] / 255.0\n",
    "X_test = d_test[:, 1:] / 255.0\n",
    "\n",
    "y_train = d_train[:, 0]\n",
    "y_test = d_test[:, 0]\n",
    "\n",
    "# Shuffle data to be safe\n",
    "X_train, y_train = shuffle(X_train, y_train)\n",
    "X_test, y_test = shuffle(X_test, y_test)\n",
    "\n",
    "del d_train, d_test"
   ]
  },
  {
   "cell_type": "markdown",
   "id": "eaab450c",
   "metadata": {},
   "source": [
    "## ART_IPCA Model\n",
    "\n",
    "Class interface in the style of scikit-learn with ```fit()``` and ```predict()``` functions"
   ]
  },
  {
   "cell_type": "code",
   "execution_count": 3,
   "id": "4e373e3b",
   "metadata": {},
   "outputs": [
    {
     "data": {
      "text/plain": [
       "0.9413"
      ]
     },
     "execution_count": 3,
     "metadata": {},
     "output_type": "execute_result"
    }
   ],
   "source": [
    "TX_train, Ty_train = make_tasks(X_train, y_train, n_tasks=5, n_spc=2000)\n",
    "\n",
    "model = ART_IPCA(n_components=200, sim_metric=cosine_similarity, rho=0.5)\n",
    "model.fit(TX_train, Ty_train)\n",
    "y_pred = model.predict(X_test)\n",
    "\n",
    "accuracy_score(y_test, y_pred)"
   ]
  },
  {
   "cell_type": "markdown",
   "id": "5098e3da",
   "metadata": {},
   "source": [
    "## All Metrics\n",
    "\n",
    "Code to create 'meta-tables' used to derive continual learning metrics (i.e. task-specific performance, overall performance, forgetting rate)"
   ]
  },
  {
   "cell_type": "code",
   "execution_count": 4,
   "id": "06321a66",
   "metadata": {},
   "outputs": [
    {
     "name": "stdout",
     "output_type": "stream",
     "text": [
      "Overall accuracy \n",
      "Multiheaded setting:  0.992\n",
      "Singleheaded setting: 0.942\n"
     ]
    }
   ],
   "source": [
    "TX_test, Ty_test = make_tasks(X_test, y_test, n_tasks=5, n_spc=500)\n",
    "\n",
    "mh_acc_mat, sh_acc_mat = ART_IPCA_all_metrics(TX_train, \n",
    "                                              Ty_train, \n",
    "                                              TX_test, \n",
    "                                              Ty_test,\n",
    "                                              n_components=200,\n",
    "                                              sim_metric=cosine_similarity, \n",
    "                                              rho=0.5)"
   ]
  },
  {
   "cell_type": "code",
   "execution_count": 5,
   "id": "a4ddf216",
   "metadata": {},
   "outputs": [
    {
     "data": {
      "text/plain": [
       "array([[0.997,   nan,   nan,   nan,   nan],\n",
       "       [0.997, 0.986,   nan,   nan,   nan],\n",
       "       [0.997, 0.987, 0.997,   nan,   nan],\n",
       "       [0.997, 0.987, 0.997, 0.999,   nan],\n",
       "       [0.997, 0.986, 0.997, 0.999, 0.982]], dtype=float32)"
      ]
     },
     "execution_count": 5,
     "metadata": {},
     "output_type": "execute_result"
    }
   ],
   "source": [
    "mh_acc_mat"
   ]
  },
  {
   "cell_type": "code",
   "execution_count": 6,
   "id": "b89da013",
   "metadata": {},
   "outputs": [
    {
     "data": {
      "text/plain": [
       "array([[0.997,   nan,   nan,   nan,   nan],\n",
       "       [0.987, 0.982,   nan,   nan,   nan],\n",
       "       [0.984, 0.966, 0.972,   nan,   nan],\n",
       "       [0.976, 0.956, 0.955, 0.974,   nan],\n",
       "       [0.969, 0.936, 0.903, 0.952, 0.952]], dtype=float32)"
      ]
     },
     "execution_count": 6,
     "metadata": {},
     "output_type": "execute_result"
    }
   ],
   "source": [
    "sh_acc_mat"
   ]
  }
 ],
 "metadata": {
  "kernelspec": {
   "display_name": "Python 3 (ipykernel)",
   "language": "python",
   "name": "python3"
  },
  "language_info": {
   "codemirror_mode": {
    "name": "ipython",
    "version": 3
   },
   "file_extension": ".py",
   "mimetype": "text/x-python",
   "name": "python",
   "nbconvert_exporter": "python",
   "pygments_lexer": "ipython3",
   "version": "3.7.13"
  }
 },
 "nbformat": 4,
 "nbformat_minor": 5
}
